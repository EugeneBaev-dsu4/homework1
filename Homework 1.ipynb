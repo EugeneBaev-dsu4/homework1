{
 "cells": [
  {
   "cell_type": "markdown",
   "metadata": {},
   "source": [
    "## Задание 1"
   ]
  },
  {
   "cell_type": "code",
   "execution_count": null,
   "metadata": {},
   "outputs": [],
   "source": [
    "phrase_1 = 'Насколько проще было бы писать программы, если бы не заказчики'\n",
    "phrase_2 = '640Кб должно хватить для любых задач. Билл Гейтс (по легенде)'\n",
    "if len(phrase_1) > len(phrase_2):\n",
    "    print ('Фраза 1 длиннее фразы 2')\n",
    "elif len(phrase_1) < len(phrase_2):\n",
    "    print ('Фраза 2 длиннее фразы 1')\n",
    "elif len(phrase_1) == len(phrase_2):\n",
    "    print ('Фразы равной длины')"
   ]
  },
  {
   "cell_type": "markdown",
   "metadata": {},
   "source": [
    "## Задание 2"
   ]
  },
  {
   "cell_type": "code",
   "execution_count": 1,
   "metadata": {},
   "outputs": [
    {
     "name": "stdout",
     "output_type": "stream",
     "text": [
      "Обычный год\n"
     ]
    }
   ],
   "source": [
    "year = 2019\n",
    "if year % 400 == 0:\n",
    "    print ('Високосный год')\n",
    "elif year % 100 == 0:\n",
    "    print ('Обычный год')\n",
    "elif year % 4 == 0:\n",
    "    print ('Високосный год')\n",
    "else:\n",
    "    print ('Обычный год')"
   ]
  },
  {
   "cell_type": "markdown",
   "metadata": {},
   "source": [
    "## Задание 3"
   ]
  },
  {
   "cell_type": "code",
   "execution_count": 4,
   "metadata": {},
   "outputs": [
    {
     "name": "stdout",
     "output_type": "stream",
     "text": [
      "Введите день рождения: 24\n",
      "Введите месяц рождения: dfg\n"
     ]
    }
   ],
   "source": [
    "date=int(input(\"Введите день рождения: \")) \n",
    "\n",
    "month=input(\"Введите месяц рождения: \") \n",
    "\n",
    "\n",
    "if (date >= 21 and date <= 31 and month.capitalize()== 'Март') or(month.capitalize()== 'Апрель' and date >= 1 and date <= 19): \n",
    "\n",
    "    print(\"Знак зодиака: Овен\") \n",
    "\n",
    "elif (date >= 20 and date <= 30 and month.capitalize()== 'Апрель') or(month.capitalize()== 'Май' and date >= 1 and date <= 20): \n",
    "\n",
    "    print(\"Знак зодиака: Телец\") \n",
    "\n",
    "elif (date >= 21 and date <= 31 and month.capitalize()== 'Май') or(month.capitalize()== 'Июнь' and date >= 1 and date <= 21): \n",
    "\n",
    "    print(\"Знак зодиака: Близнецы\") \n",
    "\n",
    "elif (date >= 22 and date <= 30 and month.capitalize()== 'Июнь') or(month.capitalize()== 'Июль' and date >= 1 and date <= 22): \n",
    "\n",
    "    print(\"Знак зодиака: Рак\") \n",
    "\n",
    "elif (date >= 23 and date <= 31 and month.capitalize()== 'Июль') or(month.capitalize()== 'Август' and date >= 1 and date <= 22): \n",
    "\n",
    "    print(\"Знак зодиака: Лев\") \n",
    "\n",
    "elif (date >= 23 and date <= 31 and month.capitalize()== 'Август') or(month.capitalize()== 'Сентябрь' and date >= 1 and date <= 22): \n",
    "\n",
    "    print(\"Знак зодиака: Дева\") \n",
    "\n",
    "elif (date >= 23 and date <= 30 and month.capitalize()== 'Сентябрь') or(month.capitalize()== 'Октябрь' and date >= 1 and date <= 23): \n",
    "\n",
    "    print(\"Знак зодиака: Весы\") \n",
    "\n",
    "elif (date >= 24 and date <= 31 and month.capitalize()== 'Октябрь') or (month.capitalize()== 'Ноябрь' and date >= 1 and date <= 22):\n",
    "    print(\"Знак зодиака: Скорпион\") \n",
    "\n",
    "elif (date >= 23 and date <= 30 and month.capitalize()== 'Ноябрь') or(month.capitalize()== 'Декабрь' and date >= 1 and date <= 21): \n",
    "\n",
    "    print(\"Знак зодиака: Стрелец\") \n",
    "\n",
    "elif (date >= 22 and date <= 31 and month.capitalize()== 'Декабрь') or(month.capitalize()== 'Январь' and date >= 1 and date <= 20): \n",
    "\n",
    "    print(\"Знак зодиака: Козерог\") \n",
    "\n",
    "elif (date >= 21 and date <= 31 and month.capitalize()== 'Январь') or(month.capitalize()== 'Февраль' and date >= 1 and date <= 18): \n",
    "\n",
    "    print(\"Знак зодиака: Водолей\") \n",
    "\n",
    "elif (date >= 19 and date <= 29 and month.capitalize()== 'Февраль') or(month.capitalize()== 'Март' and date >= 1 and date <= 20): \n",
    "\n",
    "    print(\"Знак зодиака: Рыбы\")"
   ]
  },
  {
   "cell_type": "markdown",
   "metadata": {},
   "source": [
    "## Задание 4"
   ]
  },
  {
   "cell_type": "code",
   "execution_count": 3,
   "metadata": {},
   "outputs": [
    {
     "name": "stdout",
     "output_type": "stream",
     "text": [
      "Упаковка для лыж\n"
     ]
    }
   ],
   "source": [
    "width = 30\n",
    "length = 205\n",
    "height = 5\n",
    "\n",
    "if length > 200:\n",
    "    print ('Упаковка для лыж')\n",
    "elif width <15 and length <15 and height <15:\n",
    "    print ('Коробка №1')\n",
    "elif 15< width <50 or 15< length <50 or 15< height <50:\n",
    "    print ('Коробка №2')\n",
    "else:\n",
    "    print('Стандартная коробка №3')"
   ]
  },
  {
   "cell_type": "markdown",
   "metadata": {},
   "source": [
    "## Задание 5"
   ]
  },
  {
   "cell_type": "code",
   "execution_count": 2,
   "metadata": {},
   "outputs": [
    {
     "name": "stdout",
     "output_type": "stream",
     "text": [
      "Введите номер билета: 123465\n",
      "Несчастливый билет\n"
     ]
    }
   ],
   "source": [
    "number = input(\"Введите номер билета: \")\n",
    "nums = [int(n) for n in number]\n",
    "if sum (nums[:3]) == sum (nums[-3:]):\n",
    "    print ('Счастливый билет')\n",
    "else:\n",
    "    print ('Несчастливый билет')"
   ]
  },
  {
   "cell_type": "code",
   "execution_count": null,
   "metadata": {},
   "outputs": [],
   "source": []
  }
 ],
 "metadata": {
  "kernelspec": {
   "display_name": "Python 3",
   "language": "python",
   "name": "python3"
  },
  "language_info": {
   "codemirror_mode": {
    "name": "ipython",
    "version": 3
   },
   "file_extension": ".py",
   "mimetype": "text/x-python",
   "name": "python",
   "nbconvert_exporter": "python",
   "pygments_lexer": "ipython3",
   "version": "3.7.6"
  }
 },
 "nbformat": 4,
 "nbformat_minor": 4
}
